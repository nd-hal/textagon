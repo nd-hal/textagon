{
 "cells": [
  {
   "cell_type": "markdown",
   "metadata": {},
   "source": [
    "### Guidelines\n",
    "\n",
    "1. Load dataset\n",
    "2. Run parallel representation\n",
    "3. Run AFRN\n",
    "\n",
    "_Note:_ This file has been updated from the Youtube video to reflect the following change in the package:\n",
    "\n",
    "- The AFRN module has been renamed to tGBS \n"
   ]
  },
  {
   "cell_type": "markdown",
   "metadata": {},
   "source": [
    "#### 1 Load dataset"
   ]
  },
  {
   "cell_type": "markdown",
   "metadata": {},
   "source": [
    "In this step, we'll use the distress dataset that is included in the examples folder of the repository.\n",
    "\n",
    "Textagon requires that the text column in your dataframe has the column name \"corpus\" and the label column has the name \"classLabels\"."
   ]
  },
  {
   "cell_type": "code",
   "execution_count": 2,
   "metadata": {
    "scrolled": true
   },
   "outputs": [
    {
     "name": "stderr",
     "output_type": "stream",
     "text": [
      "/home/lalor/.cache/pypoetry/virtualenvs/textagon-mUT4rrjR-py3.12/lib/python3.12/site-packages/tqdm/auto.py:21: TqdmWarning: IProgress not found. Please update jupyter and ipywidgets. See https://ipywidgets.readthedocs.io/en/stable/user_install.html\n",
      "  from .autonotebook import tqdm as notebook_tqdm\n",
      "[nltk_data] Downloading package stopwords to /home/lalor/nltk_data...\n",
      "[nltk_data]   Package stopwords is already up-to-date!\n",
      "[nltk_data] Downloading package averaged_perceptron_tagger to\n",
      "[nltk_data]     /home/lalor/nltk_data...\n",
      "[nltk_data]   Package averaged_perceptron_tagger is already up-to-\n",
      "[nltk_data]       date!\n",
      "[nltk_data] Downloading package averaged_perceptron_tagger_eng to\n",
      "[nltk_data]     /home/lalor/nltk_data...\n",
      "[nltk_data]   Package averaged_perceptron_tagger_eng is already up-to-\n",
      "[nltk_data]       date!\n",
      "[nltk_data] Downloading package wordnet to /home/lalor/nltk_data...\n",
      "[nltk_data]   Package wordnet is already up-to-date!\n",
      "[nltk_data] Downloading package sentiwordnet to\n",
      "[nltk_data]     /home/lalor/nltk_data...\n",
      "[nltk_data]   Package sentiwordnet is already up-to-date!\n",
      "[nltk_data] Downloading package vader_lexicon to\n",
      "[nltk_data]     /home/lalor/nltk_data...\n",
      "[nltk_data]   Package vader_lexicon is already up-to-date!\n",
      "[nltk_data] Downloading package punkt to /home/lalor/nltk_data...\n",
      "[nltk_data]   Package punkt is already up-to-date!\n",
      "[nltk_data] Downloading package punkt_tab to /home/lalor/nltk_data...\n",
      "[nltk_data]   Package punkt_tab is already up-to-date!\n"
     ]
    },
    {
     "name": "stdout",
     "output_type": "stream",
     "text": [
      "Collecting en-core-web-sm==3.7.1\n",
      "  Downloading https://github.com/explosion/spacy-models/releases/download/en_core_web_sm-3.7.1/en_core_web_sm-3.7.1-py3-none-any.whl (12.8 MB)\n",
      "\u001b[2K     \u001b[90m━━━━━━━━━━━━━━━━━━━━━━━━━━━━━━━━━━━━━━━━\u001b[0m \u001b[32m12.8/12.8 MB\u001b[0m \u001b[31m70.8 MB/s\u001b[0m eta \u001b[36m0:00:00\u001b[0m00:01\u001b[0m\n",
      "\u001b[?25hRequirement already satisfied: spacy<3.8.0,>=3.7.2 in /home/lalor/.cache/pypoetry/virtualenvs/textagon-mUT4rrjR-py3.12/lib/python3.12/site-packages (from en-core-web-sm==3.7.1) (3.7.5)\n",
      "Requirement already satisfied: spacy-legacy<3.1.0,>=3.0.11 in /home/lalor/.cache/pypoetry/virtualenvs/textagon-mUT4rrjR-py3.12/lib/python3.12/site-packages (from spacy<3.8.0,>=3.7.2->en-core-web-sm==3.7.1) (3.0.12)\n",
      "Requirement already satisfied: spacy-loggers<2.0.0,>=1.0.0 in /home/lalor/.cache/pypoetry/virtualenvs/textagon-mUT4rrjR-py3.12/lib/python3.12/site-packages (from spacy<3.8.0,>=3.7.2->en-core-web-sm==3.7.1) (1.0.5)\n",
      "Requirement already satisfied: murmurhash<1.1.0,>=0.28.0 in /home/lalor/.cache/pypoetry/virtualenvs/textagon-mUT4rrjR-py3.12/lib/python3.12/site-packages (from spacy<3.8.0,>=3.7.2->en-core-web-sm==3.7.1) (1.0.12)\n",
      "Requirement already satisfied: cymem<2.1.0,>=2.0.2 in /home/lalor/.cache/pypoetry/virtualenvs/textagon-mUT4rrjR-py3.12/lib/python3.12/site-packages (from spacy<3.8.0,>=3.7.2->en-core-web-sm==3.7.1) (2.0.11)\n",
      "Requirement already satisfied: preshed<3.1.0,>=3.0.2 in /home/lalor/.cache/pypoetry/virtualenvs/textagon-mUT4rrjR-py3.12/lib/python3.12/site-packages (from spacy<3.8.0,>=3.7.2->en-core-web-sm==3.7.1) (3.0.9)\n",
      "Requirement already satisfied: thinc<8.3.0,>=8.2.2 in /home/lalor/.cache/pypoetry/virtualenvs/textagon-mUT4rrjR-py3.12/lib/python3.12/site-packages (from spacy<3.8.0,>=3.7.2->en-core-web-sm==3.7.1) (8.2.5)\n",
      "Requirement already satisfied: wasabi<1.2.0,>=0.9.1 in /home/lalor/.cache/pypoetry/virtualenvs/textagon-mUT4rrjR-py3.12/lib/python3.12/site-packages (from spacy<3.8.0,>=3.7.2->en-core-web-sm==3.7.1) (1.1.3)\n",
      "Requirement already satisfied: srsly<3.0.0,>=2.4.3 in /home/lalor/.cache/pypoetry/virtualenvs/textagon-mUT4rrjR-py3.12/lib/python3.12/site-packages (from spacy<3.8.0,>=3.7.2->en-core-web-sm==3.7.1) (2.4.8)\n",
      "Requirement already satisfied: catalogue<2.1.0,>=2.0.6 in /home/lalor/.cache/pypoetry/virtualenvs/textagon-mUT4rrjR-py3.12/lib/python3.12/site-packages (from spacy<3.8.0,>=3.7.2->en-core-web-sm==3.7.1) (2.0.10)\n",
      "Requirement already satisfied: weasel<0.5.0,>=0.1.0 in /home/lalor/.cache/pypoetry/virtualenvs/textagon-mUT4rrjR-py3.12/lib/python3.12/site-packages (from spacy<3.8.0,>=3.7.2->en-core-web-sm==3.7.1) (0.4.1)\n",
      "Requirement already satisfied: typer<1.0.0,>=0.3.0 in /home/lalor/.cache/pypoetry/virtualenvs/textagon-mUT4rrjR-py3.12/lib/python3.12/site-packages (from spacy<3.8.0,>=3.7.2->en-core-web-sm==3.7.1) (0.15.2)\n",
      "Requirement already satisfied: tqdm<5.0.0,>=4.38.0 in /home/lalor/.cache/pypoetry/virtualenvs/textagon-mUT4rrjR-py3.12/lib/python3.12/site-packages (from spacy<3.8.0,>=3.7.2->en-core-web-sm==3.7.1) (4.67.1)\n",
      "Requirement already satisfied: requests<3.0.0,>=2.13.0 in /home/lalor/.cache/pypoetry/virtualenvs/textagon-mUT4rrjR-py3.12/lib/python3.12/site-packages (from spacy<3.8.0,>=3.7.2->en-core-web-sm==3.7.1) (2.32.3)\n",
      "Requirement already satisfied: pydantic!=1.8,!=1.8.1,<3.0.0,>=1.7.4 in /home/lalor/.cache/pypoetry/virtualenvs/textagon-mUT4rrjR-py3.12/lib/python3.12/site-packages (from spacy<3.8.0,>=3.7.2->en-core-web-sm==3.7.1) (2.10.6)\n",
      "Requirement already satisfied: jinja2 in /home/lalor/.cache/pypoetry/virtualenvs/textagon-mUT4rrjR-py3.12/lib/python3.12/site-packages (from spacy<3.8.0,>=3.7.2->en-core-web-sm==3.7.1) (3.1.6)\n",
      "Requirement already satisfied: setuptools in /home/lalor/.cache/pypoetry/virtualenvs/textagon-mUT4rrjR-py3.12/lib/python3.12/site-packages (from spacy<3.8.0,>=3.7.2->en-core-web-sm==3.7.1) (77.0.3)\n",
      "Requirement already satisfied: packaging>=20.0 in /home/lalor/.cache/pypoetry/virtualenvs/textagon-mUT4rrjR-py3.12/lib/python3.12/site-packages (from spacy<3.8.0,>=3.7.2->en-core-web-sm==3.7.1) (24.2)\n",
      "Requirement already satisfied: langcodes<4.0.0,>=3.2.0 in /home/lalor/.cache/pypoetry/virtualenvs/textagon-mUT4rrjR-py3.12/lib/python3.12/site-packages (from spacy<3.8.0,>=3.7.2->en-core-web-sm==3.7.1) (3.5.0)\n",
      "Requirement already satisfied: numpy>=1.19.0 in /home/lalor/.cache/pypoetry/virtualenvs/textagon-mUT4rrjR-py3.12/lib/python3.12/site-packages (from spacy<3.8.0,>=3.7.2->en-core-web-sm==3.7.1) (1.26.4)\n",
      "Requirement already satisfied: language-data>=1.2 in /home/lalor/.cache/pypoetry/virtualenvs/textagon-mUT4rrjR-py3.12/lib/python3.12/site-packages (from langcodes<4.0.0,>=3.2.0->spacy<3.8.0,>=3.7.2->en-core-web-sm==3.7.1) (1.3.0)\n",
      "Requirement already satisfied: annotated-types>=0.6.0 in /home/lalor/.cache/pypoetry/virtualenvs/textagon-mUT4rrjR-py3.12/lib/python3.12/site-packages (from pydantic!=1.8,!=1.8.1,<3.0.0,>=1.7.4->spacy<3.8.0,>=3.7.2->en-core-web-sm==3.7.1) (0.7.0)\n",
      "Requirement already satisfied: pydantic-core==2.27.2 in /home/lalor/.cache/pypoetry/virtualenvs/textagon-mUT4rrjR-py3.12/lib/python3.12/site-packages (from pydantic!=1.8,!=1.8.1,<3.0.0,>=1.7.4->spacy<3.8.0,>=3.7.2->en-core-web-sm==3.7.1) (2.27.2)\n",
      "Requirement already satisfied: typing-extensions>=4.12.2 in /home/lalor/.cache/pypoetry/virtualenvs/textagon-mUT4rrjR-py3.12/lib/python3.12/site-packages (from pydantic!=1.8,!=1.8.1,<3.0.0,>=1.7.4->spacy<3.8.0,>=3.7.2->en-core-web-sm==3.7.1) (4.12.2)\n",
      "Requirement already satisfied: charset-normalizer<4,>=2 in /home/lalor/.cache/pypoetry/virtualenvs/textagon-mUT4rrjR-py3.12/lib/python3.12/site-packages (from requests<3.0.0,>=2.13.0->spacy<3.8.0,>=3.7.2->en-core-web-sm==3.7.1) (3.4.1)\n",
      "Requirement already satisfied: idna<4,>=2.5 in /home/lalor/.cache/pypoetry/virtualenvs/textagon-mUT4rrjR-py3.12/lib/python3.12/site-packages (from requests<3.0.0,>=2.13.0->spacy<3.8.0,>=3.7.2->en-core-web-sm==3.7.1) (3.10)\n",
      "Requirement already satisfied: urllib3<3,>=1.21.1 in /home/lalor/.cache/pypoetry/virtualenvs/textagon-mUT4rrjR-py3.12/lib/python3.12/site-packages (from requests<3.0.0,>=2.13.0->spacy<3.8.0,>=3.7.2->en-core-web-sm==3.7.1) (2.3.0)\n",
      "Requirement already satisfied: certifi>=2017.4.17 in /home/lalor/.cache/pypoetry/virtualenvs/textagon-mUT4rrjR-py3.12/lib/python3.12/site-packages (from requests<3.0.0,>=2.13.0->spacy<3.8.0,>=3.7.2->en-core-web-sm==3.7.1) (2025.1.31)\n",
      "Requirement already satisfied: blis<0.8.0,>=0.7.8 in /home/lalor/.cache/pypoetry/virtualenvs/textagon-mUT4rrjR-py3.12/lib/python3.12/site-packages (from thinc<8.3.0,>=8.2.2->spacy<3.8.0,>=3.7.2->en-core-web-sm==3.7.1) (0.7.11)\n",
      "Requirement already satisfied: confection<1.0.0,>=0.0.1 in /home/lalor/.cache/pypoetry/virtualenvs/textagon-mUT4rrjR-py3.12/lib/python3.12/site-packages (from thinc<8.3.0,>=8.2.2->spacy<3.8.0,>=3.7.2->en-core-web-sm==3.7.1) (0.1.5)\n",
      "Requirement already satisfied: click>=8.0.0 in /home/lalor/.cache/pypoetry/virtualenvs/textagon-mUT4rrjR-py3.12/lib/python3.12/site-packages (from typer<1.0.0,>=0.3.0->spacy<3.8.0,>=3.7.2->en-core-web-sm==3.7.1) (8.1.8)\n",
      "Requirement already satisfied: shellingham>=1.3.0 in /home/lalor/.cache/pypoetry/virtualenvs/textagon-mUT4rrjR-py3.12/lib/python3.12/site-packages (from typer<1.0.0,>=0.3.0->spacy<3.8.0,>=3.7.2->en-core-web-sm==3.7.1) (1.5.4)\n",
      "Requirement already satisfied: rich>=10.11.0 in /home/lalor/.cache/pypoetry/virtualenvs/textagon-mUT4rrjR-py3.12/lib/python3.12/site-packages (from typer<1.0.0,>=0.3.0->spacy<3.8.0,>=3.7.2->en-core-web-sm==3.7.1) (13.9.4)\n",
      "Requirement already satisfied: cloudpathlib<1.0.0,>=0.7.0 in /home/lalor/.cache/pypoetry/virtualenvs/textagon-mUT4rrjR-py3.12/lib/python3.12/site-packages (from weasel<0.5.0,>=0.1.0->spacy<3.8.0,>=3.7.2->en-core-web-sm==3.7.1) (0.21.0)\n",
      "Requirement already satisfied: smart-open<8.0.0,>=5.2.1 in /home/lalor/.cache/pypoetry/virtualenvs/textagon-mUT4rrjR-py3.12/lib/python3.12/site-packages (from weasel<0.5.0,>=0.1.0->spacy<3.8.0,>=3.7.2->en-core-web-sm==3.7.1) (7.1.0)\n",
      "Requirement already satisfied: MarkupSafe>=2.0 in /home/lalor/.cache/pypoetry/virtualenvs/textagon-mUT4rrjR-py3.12/lib/python3.12/site-packages (from jinja2->spacy<3.8.0,>=3.7.2->en-core-web-sm==3.7.1) (3.0.2)\n",
      "Requirement already satisfied: marisa-trie>=1.1.0 in /home/lalor/.cache/pypoetry/virtualenvs/textagon-mUT4rrjR-py3.12/lib/python3.12/site-packages (from language-data>=1.2->langcodes<4.0.0,>=3.2.0->spacy<3.8.0,>=3.7.2->en-core-web-sm==3.7.1) (1.2.1)\n",
      "Requirement already satisfied: markdown-it-py>=2.2.0 in /home/lalor/.cache/pypoetry/virtualenvs/textagon-mUT4rrjR-py3.12/lib/python3.12/site-packages (from rich>=10.11.0->typer<1.0.0,>=0.3.0->spacy<3.8.0,>=3.7.2->en-core-web-sm==3.7.1) (3.0.0)\n",
      "Requirement already satisfied: pygments<3.0.0,>=2.13.0 in /home/lalor/.cache/pypoetry/virtualenvs/textagon-mUT4rrjR-py3.12/lib/python3.12/site-packages (from rich>=10.11.0->typer<1.0.0,>=0.3.0->spacy<3.8.0,>=3.7.2->en-core-web-sm==3.7.1) (2.19.1)\n",
      "Requirement already satisfied: wrapt in /home/lalor/.cache/pypoetry/virtualenvs/textagon-mUT4rrjR-py3.12/lib/python3.12/site-packages (from smart-open<8.0.0,>=5.2.1->weasel<0.5.0,>=0.1.0->spacy<3.8.0,>=3.7.2->en-core-web-sm==3.7.1) (1.17.2)\n",
      "Requirement already satisfied: mdurl~=0.1 in /home/lalor/.cache/pypoetry/virtualenvs/textagon-mUT4rrjR-py3.12/lib/python3.12/site-packages (from markdown-it-py>=2.2.0->rich>=10.11.0->typer<1.0.0,>=0.3.0->spacy<3.8.0,>=3.7.2->en-core-web-sm==3.7.1) (0.1.2)\n"
     ]
    },
    {
     "name": "stderr",
     "output_type": "stream",
     "text": [
      "\n",
      "\u001b[1m[\u001b[0m\u001b[34;49mnotice\u001b[0m\u001b[1;39;49m]\u001b[0m\u001b[39;49m A new release of pip is available: \u001b[0m\u001b[31;49m24.3.1\u001b[0m\u001b[39;49m -> \u001b[0m\u001b[32;49m25.0.1\u001b[0m\n",
      "\u001b[1m[\u001b[0m\u001b[34;49mnotice\u001b[0m\u001b[1;39;49m]\u001b[0m\u001b[39;49m To update, run: \u001b[0m\u001b[32;49mpip install --upgrade pip\u001b[0m\n"
     ]
    },
    {
     "name": "stdout",
     "output_type": "stream",
     "text": [
      "\u001b[38;5;2m✔ Download and installation successful\u001b[0m\n",
      "You can now load the package via spacy.load('en_core_web_sm')\n",
      "current time:- 2025-03-28 08:40:27.478165\n"
     ]
    }
   ],
   "source": [
    "import pandas as pd\n",
    "from textagon.textagon import Textagon\n",
    "from textagon.tGBS import tGBS\n",
    "\n",
    "df = pd.read_csv(\n",
    "    \"sample_data/distress_raw.txt\", \n",
    "    sep=\"\\t\",     \n",
    "    header=None, \n",
    "    names=[\"classLabels\", \"corpus\"]\n",
    ")\n"
   ]
  },
  {
   "cell_type": "markdown",
   "metadata": {},
   "source": [
    "#### 2. Run parallel representation\n",
    "\n"
   ]
  },
  {
   "cell_type": "code",
   "execution_count": 3,
   "metadata": {
    "scrolled": true
   },
   "outputs": [
    {
     "name": "stdout",
     "output_type": "stream",
     "text": [
      "# Spellchecker Details #\n",
      "Provider: <Enchant: Aspell Provider>\n",
      "Enchant Version: 2.3.3\n",
      "Dictionary Tag: en\n",
      "Dictionary Location: /usr/lib/x86_64-linux-gnu/enchant-2/enchant_aspell.so\n",
      "Total Exclusions: 0 (No File Supplied)\n",
      "\n",
      "# CPU Cores Detected and Initialized: 3 #\n",
      "\n",
      "# Python Details #\n",
      "3.12.9 | packaged by conda-forge | (main, Mar  4 2025, 22:48:41) [GCC 13.3.0] \n",
      "\n",
      "# Package Versions #\n",
      "SpaCy: 3.7.5\n",
      "PyEnchant: 3.2.2\n",
      "pywsd: 1.2.4\n",
      "NLTK: 3.9.1 \n",
      "\n",
      "# Custom Lexicons Imported: 10 #\n",
      "- ADR (4 Tags)\n",
      "- AILEXCAT (81 Tags)\n",
      "- AILEXINT (24 Tags)\n",
      "- EMOLEX (102 Tags)\n",
      "- GLOVECC (500 Tags)\n",
      "- GLOVETW (500 Tags)\n",
      "- GLOVEWG (500 Tags)\n",
      "- LIWC (64 Tags)\n",
      "- SAVLEX (158 Tags)\n",
      "- SYN (500 Tags)\n",
      "\n",
      "# Now Reading Raw Data #\n",
      "Items to Process: 1860 \n",
      "\n",
      "# Now Processing Text Items # \n",
      "\n",
      "# Performing Basic Text Cleanup #\n",
      "\n"
     ]
    },
    {
     "name": "stderr",
     "output_type": "stream",
     "text": [
      "100%|██████████| 18/18 [01:11<00:00,  3.97s/it]\n",
      "100%|██████████| 18/18 [11:11<00:00, 37.31s/it]\n"
     ]
    },
    {
     "name": "stdout",
     "output_type": "stream",
     "text": [
      "\n",
      "Items Processed: 1860 (Time Elapsed: 0 days 00:12:24)\n",
      "\n",
      "### Stage execution finished at 2025-03-28 08:52 AM EDT (Time Elapsed: 0 days 00:12:36) ###\n",
      "\n",
      "# Now Reading Raw Data #\n",
      "\n",
      "# Now Reading Feature Data Pickle #\n",
      "- Time Elapsed: 0 days 00:00:00\n",
      "\n",
      "# Now Writing Spellchecked Sentences to Disk #\n",
      "- Time Elapsed: 0 days 00:00:00\n",
      "\n",
      "# Now Writing Spelling Corrections to Disk #\n",
      "- Time Elapsed: 0 days 00:00:00\n",
      "\n",
      "# Now Generating VADER Scores #\n",
      "- Time Elapsed: 0 days 00:00:01\n",
      "\n",
      "# Now Constructing Feature Vectors # \n",
      "\n",
      "# Settings #\n",
      "Minimum Term Frequency: 3\n",
      "N-grams: 4\n",
      "Requested Feature Vectors: ['binary', 'charbinary']\n",
      "\n",
      "# Adding Legomena Feature #\n",
      "\n"
     ]
    },
    {
     "name": "stderr",
     "output_type": "stream",
     "text": [
      "  0%|          | 0/18 [00:00<?, ?it/s]/home/lalor/code/textagon/textagon/utils.py:279: FutureWarning: Series.__getitem__ treating keys as positions is deprecated. In a future version, integer keys will always be treated as labels (consistent with DataFrame behavior). To access a value by position, use `ser.iloc[pos]`\n",
      "  for word in item[0].split(' '):\n",
      "/home/lalor/code/textagon/textagon/utils.py:279: FutureWarning: Series.__getitem__ treating keys as positions is deprecated. In a future version, integer keys will always be treated as labels (consistent with DataFrame behavior). To access a value by position, use `ser.iloc[pos]`\n",
      "  for word in item[0].split(' '):\n",
      "/home/lalor/code/textagon/textagon/utils.py:279: FutureWarning: Series.__getitem__ treating keys as positions is deprecated. In a future version, integer keys will always be treated as labels (consistent with DataFrame behavior). To access a value by position, use `ser.iloc[pos]`\n",
      "  for word in item[0].split(' '):\n",
      "/home/lalor/code/textagon/textagon/utils.py:279: FutureWarning: Series.__getitem__ treating keys as positions is deprecated. In a future version, integer keys will always be treated as labels (consistent with DataFrame behavior). To access a value by position, use `ser.iloc[pos]`\n",
      "  for word in item[0].split(' '):\n",
      "  6%|▌         | 1/18 [00:00<00:13,  1.26it/s]/home/lalor/code/textagon/textagon/utils.py:279: FutureWarning: Series.__getitem__ treating keys as positions is deprecated. In a future version, integer keys will always be treated as labels (consistent with DataFrame behavior). To access a value by position, use `ser.iloc[pos]`\n",
      "  for word in item[0].split(' '):\n",
      "/home/lalor/code/textagon/textagon/utils.py:279: FutureWarning: Series.__getitem__ treating keys as positions is deprecated. In a future version, integer keys will always be treated as labels (consistent with DataFrame behavior). To access a value by position, use `ser.iloc[pos]`\n",
      "  for word in item[0].split(' '):\n",
      " 22%|██▏       | 4/18 [00:01<00:06,  2.27it/s]/home/lalor/code/textagon/textagon/utils.py:279: FutureWarning: Series.__getitem__ treating keys as positions is deprecated. In a future version, integer keys will always be treated as labels (consistent with DataFrame behavior). To access a value by position, use `ser.iloc[pos]`\n",
      "  for word in item[0].split(' '):\n",
      "/home/lalor/code/textagon/textagon/utils.py:279: FutureWarning: Series.__getitem__ treating keys as positions is deprecated. In a future version, integer keys will always be treated as labels (consistent with DataFrame behavior). To access a value by position, use `ser.iloc[pos]`\n",
      "  for word in item[0].split(' '):\n",
      "/home/lalor/code/textagon/textagon/utils.py:279: FutureWarning: Series.__getitem__ treating keys as positions is deprecated. In a future version, integer keys will always be treated as labels (consistent with DataFrame behavior). To access a value by position, use `ser.iloc[pos]`\n",
      "  for word in item[0].split(' '):\n",
      " 39%|███▉      | 7/18 [00:02<00:04,  2.42it/s]/home/lalor/code/textagon/textagon/utils.py:279: FutureWarning: Series.__getitem__ treating keys as positions is deprecated. In a future version, integer keys will always be treated as labels (consistent with DataFrame behavior). To access a value by position, use `ser.iloc[pos]`\n",
      "  for word in item[0].split(' '):\n",
      "/home/lalor/code/textagon/textagon/utils.py:279: FutureWarning: Series.__getitem__ treating keys as positions is deprecated. In a future version, integer keys will always be treated as labels (consistent with DataFrame behavior). To access a value by position, use `ser.iloc[pos]`\n",
      "  for word in item[0].split(' '):\n",
      "/home/lalor/code/textagon/textagon/utils.py:279: FutureWarning: Series.__getitem__ treating keys as positions is deprecated. In a future version, integer keys will always be treated as labels (consistent with DataFrame behavior). To access a value by position, use `ser.iloc[pos]`\n",
      "  for word in item[0].split(' '):\n",
      " 56%|█████▌    | 10/18 [00:03<00:03,  2.57it/s]/home/lalor/code/textagon/textagon/utils.py:279: FutureWarning: Series.__getitem__ treating keys as positions is deprecated. In a future version, integer keys will always be treated as labels (consistent with DataFrame behavior). To access a value by position, use `ser.iloc[pos]`\n",
      "  for word in item[0].split(' '):\n",
      "/home/lalor/code/textagon/textagon/utils.py:279: FutureWarning: Series.__getitem__ treating keys as positions is deprecated. In a future version, integer keys will always be treated as labels (consistent with DataFrame behavior). To access a value by position, use `ser.iloc[pos]`\n",
      "  for word in item[0].split(' '):\n",
      "/home/lalor/code/textagon/textagon/utils.py:279: FutureWarning: Series.__getitem__ treating keys as positions is deprecated. In a future version, integer keys will always be treated as labels (consistent with DataFrame behavior). To access a value by position, use `ser.iloc[pos]`\n",
      "  for word in item[0].split(' '):\n",
      " 72%|███████▏  | 13/18 [00:05<00:01,  2.55it/s]/home/lalor/code/textagon/textagon/utils.py:279: FutureWarning: Series.__getitem__ treating keys as positions is deprecated. In a future version, integer keys will always be treated as labels (consistent with DataFrame behavior). To access a value by position, use `ser.iloc[pos]`\n",
      "  for word in item[0].split(' '):\n",
      "/home/lalor/code/textagon/textagon/utils.py:279: FutureWarning: Series.__getitem__ treating keys as positions is deprecated. In a future version, integer keys will always be treated as labels (consistent with DataFrame behavior). To access a value by position, use `ser.iloc[pos]`\n",
      "  for word in item[0].split(' '):\n",
      "/home/lalor/code/textagon/textagon/utils.py:279: FutureWarning: Series.__getitem__ treating keys as positions is deprecated. In a future version, integer keys will always be treated as labels (consistent with DataFrame behavior). To access a value by position, use `ser.iloc[pos]`\n",
      "  for word in item[0].split(' '):\n",
      "100%|██████████| 18/18 [00:06<00:00,  2.69it/s]\n"
     ]
    },
    {
     "name": "stdout",
     "output_type": "stream",
     "text": [
      "\n",
      "\n",
      "# Final Set of Feature Representations (1860 Total) #\n",
      "['Affect', 'Boundaries', 'Hypernym', 'Legomena', 'LexiconADR', 'LexiconAILEXCAT', 'LexiconAILEXINT', 'LexiconEMOLEX', 'LexiconGLOVECC', 'LexiconGLOVETW', 'LexiconGLOVEWG', 'LexiconLIWC', 'LexiconSAVLEX', 'LexiconSYN', 'Misspelling', 'MisspellingDetailed', 'NER', 'POS', 'Sentiment', 'Word', 'Word&NER', 'Word&POS', 'Word&Sense'] \n",
      "\n",
      "# Now Writing Representations to Disk #\n",
      "- Time Elapsed: 0 days 00:00:00\n",
      "\n",
      "# Now Generating Feature Matrices # \n",
      "\n",
      "---\n",
      "Affect\n",
      "Features: 20690 (Time Elapsed: 0 days 00:00:02)\n",
      "---\n",
      "Boundaries\n",
      "Features: 24 (Time Elapsed: 0 days 00:00:00)\n",
      "---\n",
      "Hypernym\n",
      "Features: 19459 (Time Elapsed: 0 days 00:00:01)\n",
      "---\n",
      "Legomena\n",
      "Features: 22439 (Time Elapsed: 0 days 00:00:01)\n",
      "---\n",
      "LexiconADR\n",
      "Features: 20729 (Time Elapsed: 0 days 00:00:02)\n",
      "---\n",
      "LexiconAILEXCAT\n",
      "Features: 20934 (Time Elapsed: 0 days 00:00:01)\n",
      "---\n",
      "LexiconAILEXINT\n",
      "Features: 20978 (Time Elapsed: 0 days 00:00:02)\n",
      "---\n",
      "LexiconEMOLEX\n",
      "Features: 20835 (Time Elapsed: 0 days 00:00:01)\n",
      "---\n",
      "LexiconGLOVECC\n",
      "Features: 18068 (Time Elapsed: 0 days 00:00:01)\n",
      "---\n",
      "LexiconGLOVETW\n",
      "Features: 20017 (Time Elapsed: 0 days 00:00:02)\n",
      "---\n",
      "LexiconGLOVEWG\n",
      "Features: 18388 (Time Elapsed: 0 days 00:00:01)\n",
      "---\n",
      "LexiconLIWC\n",
      "Features: 20094 (Time Elapsed: 0 days 00:00:01)\n",
      "---\n",
      "LexiconSAVLEX\n",
      "Features: 20638 (Time Elapsed: 0 days 00:00:01)\n",
      "---\n",
      "LexiconSYN\n",
      "Features: 20949 (Time Elapsed: 0 days 00:00:01)\n",
      "---\n",
      "Misspelling\n",
      "Features: 20729 (Time Elapsed: 0 days 00:00:01)\n",
      "---\n",
      "MisspellingDetailed\n",
      "Features: 20701 (Time Elapsed: 0 days 00:00:01)\n",
      "---\n",
      "NER\n",
      "Features: 20836 (Time Elapsed: 0 days 00:00:01)\n",
      "---\n",
      "POS\n",
      "Features: 8464 (Time Elapsed: 0 days 00:00:00)\n",
      "---\n",
      "Sentiment\n",
      "Features: 22159 (Time Elapsed: 0 days 00:00:01)\n",
      "---\n",
      "Word\n",
      "Features: 20690 (Time Elapsed: 0 days 00:00:01)\n",
      "---\n",
      "Word&NER\n",
      "Features: 20603 (Time Elapsed: 0 days 00:00:01)\n",
      "---\n",
      "Word&POS\n",
      "Features: 20645 (Time Elapsed: 0 days 00:00:01)\n",
      "---\n",
      "Word&Sense\n",
      "Features: 18896 (Time Elapsed: 0 days 00:00:01)\n",
      "\n",
      "# Adding Character N-grams (charbinary-Word) #\n",
      "Features: 12813 (Time Elapsed: 0 days 00:00:01)\n",
      "\n",
      "# Now Joining Feature Matrices # \n",
      "\n",
      "Processed distress_binary_Word_feature_matrix (Time Elapsed: 0 days 00:00:00)\n",
      "Processed distress_binary_Affect_feature_matrix (Time Elapsed: 0 days 00:00:02)\n",
      "Processed distress_binary_Boundaries_feature_matrix (Time Elapsed: 0 days 00:00:02)\n",
      "Processed distress_binary_Hypernym_feature_matrix (Time Elapsed: 0 days 00:00:03)\n",
      "Processed distress_binary_Legomena_feature_matrix (Time Elapsed: 0 days 00:00:03)\n",
      "Processed distress_binary_LexiconADR_feature_matrix (Time Elapsed: 0 days 00:00:04)\n",
      "Processed distress_binary_LexiconAILEXCAT_feature_matrix (Time Elapsed: 0 days 00:00:05)\n",
      "Processed distress_binary_LexiconAILEXINT_feature_matrix (Time Elapsed: 0 days 00:00:06)\n",
      "Processed distress_binary_LexiconEMOLEX_feature_matrix (Time Elapsed: 0 days 00:00:06)\n",
      "Processed distress_binary_LexiconGLOVECC_feature_matrix (Time Elapsed: 0 days 00:00:07)\n",
      "Processed distress_binary_LexiconGLOVETW_feature_matrix (Time Elapsed: 0 days 00:00:07)\n",
      "Processed distress_binary_LexiconGLOVEWG_feature_matrix (Time Elapsed: 0 days 00:00:07)\n",
      "Processed distress_binary_LexiconLIWC_feature_matrix (Time Elapsed: 0 days 00:00:08)\n",
      "Processed distress_binary_LexiconSAVLEX_feature_matrix (Time Elapsed: 0 days 00:00:08)\n",
      "Processed distress_binary_LexiconSYN_feature_matrix (Time Elapsed: 0 days 00:00:08)\n",
      "Processed distress_binary_Misspelling_feature_matrix (Time Elapsed: 0 days 00:00:11)\n",
      "Processed distress_binary_MisspellingDetailed_feature_matrix (Time Elapsed: 0 days 00:00:10)\n",
      "Processed distress_binary_NER_feature_matrix (Time Elapsed: 0 days 00:00:12)\n",
      "Processed distress_binary_POS_feature_matrix (Time Elapsed: 0 days 00:00:10)\n",
      "Processed distress_binary_Sentiment_feature_matrix (Time Elapsed: 0 days 00:00:11)\n",
      "Processed distress_binary_Word_NER_feature_matrix (Time Elapsed: 0 days 00:00:13)\n",
      "Processed distress_binary_Word_POS_feature_matrix (Time Elapsed: 0 days 00:00:12)\n",
      "Processed distress_binary_Word_Sense_feature_matrix (Time Elapsed: 0 days 00:00:13)\n",
      "Processed distress_charbinary_Word_feature_matrix (Time Elapsed: 0 days 00:00:14)\n",
      "\n",
      "Number of Features Produced: 450778 \n",
      "\n"
     ]
    },
    {
     "name": "stderr",
     "output_type": "stream",
     "text": [
      "100%|██████████| 24/24 [00:10<00:00,  2.30it/s]\n"
     ]
    },
    {
     "name": "stdout",
     "output_type": "stream",
     "text": [
      "Number of Zero Variance Features Removed: 23 (Time Elapsed: 0 days 00:00:20)\n",
      "\n"
     ]
    },
    {
     "name": "stderr",
     "output_type": "stream",
     "text": [
      "100%|██████████| 24/24 [00:21<00:00,  1.10it/s]\n"
     ]
    },
    {
     "name": "stdout",
     "output_type": "stream",
     "text": [
      "Number of Duplicate Features Removed: 286907 (Time Elapsed: 0 days 00:00:29)\n",
      "\n",
      "# Now Writing Results to Disk #\n",
      "- Time Elapsed: 0 days 00:01:06\n",
      "\n",
      "# Now Generating Column Key Files #\n",
      "- Time Elapsed: 0 days 00:00:03\n",
      "\n",
      "Output Dimensions (Rows, Features): (1860, 163856) \n",
      "\n",
      "### Execution finished at 2025-03-28 08:58 AM EDT (Time Elapsed: 0 days 00:18:27) ###\n",
      "\n"
     ]
    }
   ],
   "source": [
    "\n",
    "tgon = Textagon(\n",
    "    inputFile=df, \n",
    "    outputFileName=\"distress\"\n",
    ")\n",
    "\n",
    "tgon.RunFeatureConstruction()\n",
    "tgon.RunPostFeatureConstruction()"
   ]
  },
  {
   "cell_type": "markdown",
   "metadata": {},
   "source": [
    "#### 3. Run tGBS\n",
    "\n",
    "In this step we apply tGBS to score and rank the representations. \n",
    "\n",
    "\n",
    "Before running tGBS, we need to unzip the file storing the generated representations. \n",
    "In this case, it's named as \"distress_representations.zip\""
   ]
  },
  {
   "cell_type": "code",
   "execution_count": 4,
   "metadata": {},
   "outputs": [
    {
     "name": "stdout",
     "output_type": "stream",
     "text": [
      "Files extracted to ./output/distress_representations\n"
     ]
    }
   ],
   "source": [
    "import zipfile\n",
    "import os\n",
    "\n",
    "# Specify the path to the zip file\n",
    "zip_file_path = './output/distress_representations.zip'\n",
    "\n",
    "# Specify the directory to extract files to\n",
    "extract_to_directory = './output/distress_representations'\n",
    "\n",
    "# Ensure the directory exists\n",
    "os.makedirs(extract_to_directory, exist_ok=True)\n",
    "\n",
    "# Open the zip file\n",
    "with zipfile.ZipFile(zip_file_path, 'r') as zip_ref:\n",
    "    # Extract all the contents\n",
    "    zip_ref.extractall(extract_to_directory)\n",
    "\n",
    "print(f\"Files extracted to {extract_to_directory}\")\n"
   ]
  },
  {
   "cell_type": "code",
   "execution_count": 5,
   "metadata": {
    "scrolled": true
   },
   "outputs": [
    {
     "name": "stdout",
     "output_type": "stream",
     "text": [
      "Loading features\n",
      "0 NA\n",
      "1 BINARY\n",
      "2 CHARBINARY\n",
      "Total categories found =  3\n",
      "Total features found =  163856\n",
      "Total lexicons =  0\n",
      "Loading training data\n",
      "Classes= 2 1 0 Num Instances =  1860\n",
      "Number of features in Features file and Train file are different!!! 163855 163856\n",
      "Loading sentiment scores 4763\n",
      "Loading lexicons...\n",
      "NumLex =  0 NumLexItems =  0\n",
      "Assigning training weights\n",
      "Adding semantic weights\n",
      "0...\n",
      "10000...\n",
      "20000...\n",
      "30000...\n",
      "40000...\n",
      "50000...\n",
      "60000...\n",
      "70000...\n",
      "80000...\n",
      "90000...\n",
      "100000...\n",
      "110000...\n",
      "120000...\n",
      "130000...\n",
      "140000...\n",
      "150000...\n",
      "160000...\n",
      "\n",
      "Running within-category subsumption relations\n",
      "Subsuming category  1  of  3 NA\n",
      "Subsuming category  2  of  3 BINARY\n",
      "Subsuming category  3  of  3 CHARBINARY\n",
      "Running cross-category subsumption relations\n",
      "Running parallel relations\n"
     ]
    }
   ],
   "source": [
    "\n",
    "featuresFile = './output/distress_key.txt'\n",
    "trainFile = './output/distress.csv'\n",
    "weightFile = './output/distress_weights.txt'\n",
    "\n",
    "\n",
    "ranker=tGBS(\n",
    "\tfeaturesFile=featuresFile,\n",
    "\ttrainFile=trainFile,\n",
    "\tweightFile=weightFile\n",
    ")\n",
    "\n",
    "ranker.RankRepresentations()"
   ]
  },
  {
   "cell_type": "markdown",
   "metadata": {},
   "source": [
    "The Textagon representations and weights are now stored in the *output* folder, where they can be used for downstream tasks. \n",
    "\n",
    "For two such examples, please look at the other notebooks in the examples folder:\n",
    "\n",
    "- 2-calculate_informativeness.ipynb\n",
    "- 3-classification_with_textagon.ipynb"
   ]
  }
 ],
 "metadata": {
  "kernelspec": {
   "display_name": "textagon-mUT4rrjR-py3.12",
   "language": "python",
   "name": "python3"
  },
  "language_info": {
   "codemirror_mode": {
    "name": "ipython",
    "version": 3
   },
   "file_extension": ".py",
   "mimetype": "text/x-python",
   "name": "python",
   "nbconvert_exporter": "python",
   "pygments_lexer": "ipython3",
   "version": "3.12.9"
  }
 },
 "nbformat": 4,
 "nbformat_minor": 4
}

{
 "cells": [
  {
   "cell_type": "code",
   "execution_count": 1,
   "id": "332d8dc0-c37a-4e8b-a036-c764d6a03106",
   "metadata": {},
   "outputs": [],
   "source": [
    "from nltk.corpus import WordNetCorpusReader as WNCR, wordnet as wn\n",
    "import nltk\n",
    "import xml.etree.ElementTree as ET\n",
    "import pandas as pd\n",
    "import numpy as np\n",
    "\n",
    "#nltk.download('universal_tagset')\n",
    "\n",
    "WN16 = WNCR('/Users/ddobolyi/Downloads/textagon-portable/external/extracted/wordnet-1.6/dict', \n",
    "            '/Users/ddobolyi/Downloads/textagon-portable/external/extracted/wordnet-1.6/dict')\n",
    "\n",
    "synList = ET.parse('/Users/ddobolyi/Downloads/textagon-portable/external/extracted/wn-domains/wn-affect-1.1/a-synsets.xml').getroot()\n",
    "posTags = [child.tag for child in synList]\n",
    "allPOS = [pos.split('-')[0] for pos in posTags]\n",
    "WNA11Synsets = {}\n",
    "\n",
    "for eachPOS in allPOS:\n",
    "    WNA11Synsets[eachPOS] = pd.DataFrame([item.attrib for item in synList.findall(eachPOS + '-syn-list/' + eachPOS + '-syn')])\n",
    "    WNA11Synsets[eachPOS]['intid'] = WNA11Synsets[eachPOS]['id'].str[2:].astype('int')\n",
    "\n",
    "def GetWNAffect(word):\n",
    "\n",
    "    recognizedPOS = {'adj': wn.ADJ, 'adv': wn.ADV, 'noun': wn.NOUN, 'verb': wn.VERB}\n",
    "    mappedPOS = nltk.map_tag('en-ptb', 'universal', nltk.pos_tag([word])[0][1]).lower()\n",
    "\n",
    "    if mappedPOS in recognizedPOS:\n",
    "        nltkPOS = recognizedPOS[mappedPOS]\n",
    "\n",
    "    synsets = WN16.synsets(word, nltkPOS)\n",
    "    offsets = [i.offset() for i in synsets]\n",
    "\n",
    "    #print(synsets)\n",
    "    #print(offsets)\n",
    "\n",
    "    if mappedPOS != 'noun':\n",
    "        checkMatch = WNA11Synsets[mappedPOS][WNA11Synsets[mappedPOS].intid.isin(offsets)]['noun-id'].values[0]\n",
    "    else:\n",
    "        checkMatch = WNA11Synsets[mappedPOS][WNA11Synsets[mappedPOS].intid.isin(offsets)]['id'].values[0]\n",
    "\n",
    "    return(WNA11Synsets['noun'][WNA11Synsets['noun'].id.values == checkMatch].categ.values[0])"
   ]
  },
  {
   "cell_type": "code",
   "execution_count": 2,
   "id": "d4be1f47-b786-4e71-aa4e-bc46d0b63846",
   "metadata": {},
   "outputs": [
    {
     "output_type": "execute_result",
     "data": {
      "text/plain": [
       "'anger'"
      ]
     },
     "metadata": {},
     "execution_count": 2
    }
   ],
   "source": [
    "GetWNAffect('angry') # need to test against WNAffect more broadly"
   ]
  }
 ],
 "metadata": {
  "kernelspec": {
   "name": "python392jvsc74a57bd0f85c0ae1067a86ad6a96b144378883e79fd1516474b579ba33ee3a7084540002",
   "display_name": "Python 3.9.2 64-bit ('base': virtualenv)"
  },
  "language_info": {
   "codemirror_mode": {
    "name": "ipython",
    "version": 3
   },
   "file_extension": ".py",
   "mimetype": "text/x-python",
   "name": "python",
   "nbconvert_exporter": "python",
   "pygments_lexer": "ipython3",
   "version": "3.9.2-final"
  }
 },
 "nbformat": 4,
 "nbformat_minor": 5
}